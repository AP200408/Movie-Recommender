{
 "cells": [
  {
   "cell_type": "code",
   "execution_count": 1,
   "metadata": {
    "id": "GAGi6hrzFLOb"
   },
   "outputs": [],
   "source": [
    "import numpy as np\n",
    "import pandas as pd\n",
    "import difflib\n",
    "from sklearn.feature_extraction.text import TfidfVectorizer\n",
    "from sklearn.metrics.pairwise import cosine_similarity"
   ]
  },
  {
   "cell_type": "code",
   "execution_count": 2,
   "metadata": {
    "id": "MOXn7CGdIGBU"
   },
   "outputs": [],
   "source": [
    "df = pd.read_csv('./Dataset/movies.csv')"
   ]
  },
  {
   "cell_type": "code",
   "execution_count": 3,
   "metadata": {
    "colab": {
     "base_uri": "https://localhost:8080/",
     "height": 741
    },
    "id": "cha03lDAIa6l",
    "outputId": "3b8cc985-0a70-4a45-f12e-86ec051466df"
   },
   "outputs": [
    {
     "data": {
      "text/html": [
       "<div>\n",
       "<style scoped>\n",
       "    .dataframe tbody tr th:only-of-type {\n",
       "        vertical-align: middle;\n",
       "    }\n",
       "\n",
       "    .dataframe tbody tr th {\n",
       "        vertical-align: top;\n",
       "    }\n",
       "\n",
       "    .dataframe thead th {\n",
       "        text-align: right;\n",
       "    }\n",
       "</style>\n",
       "<table border=\"1\" class=\"dataframe\">\n",
       "  <thead>\n",
       "    <tr style=\"text-align: right;\">\n",
       "      <th></th>\n",
       "      <th>index</th>\n",
       "      <th>budget</th>\n",
       "      <th>genres</th>\n",
       "      <th>homepage</th>\n",
       "      <th>id</th>\n",
       "      <th>keywords</th>\n",
       "      <th>original_language</th>\n",
       "      <th>original_title</th>\n",
       "      <th>overview</th>\n",
       "      <th>popularity</th>\n",
       "      <th>...</th>\n",
       "      <th>runtime</th>\n",
       "      <th>spoken_languages</th>\n",
       "      <th>status</th>\n",
       "      <th>tagline</th>\n",
       "      <th>title</th>\n",
       "      <th>vote_average</th>\n",
       "      <th>vote_count</th>\n",
       "      <th>cast</th>\n",
       "      <th>crew</th>\n",
       "      <th>director</th>\n",
       "    </tr>\n",
       "  </thead>\n",
       "  <tbody>\n",
       "    <tr>\n",
       "      <th>1609</th>\n",
       "      <td>1609</td>\n",
       "      <td>25000000</td>\n",
       "      <td>Horror Comedy Music</td>\n",
       "      <td>NaN</td>\n",
       "      <td>10776</td>\n",
       "      <td>flower solar eclipse florist assistant plants</td>\n",
       "      <td>en</td>\n",
       "      <td>Little Shop of Horrors</td>\n",
       "      <td>Seymour Krelborn is a nerdy orphan working at ...</td>\n",
       "      <td>12.113235</td>\n",
       "      <td>...</td>\n",
       "      <td>94.0</td>\n",
       "      <td>[{\"iso_639_1\": \"en\", \"name\": \"English\"}]</td>\n",
       "      <td>Released</td>\n",
       "      <td>Don't feed the plants.</td>\n",
       "      <td>Little Shop of Horrors</td>\n",
       "      <td>6.6</td>\n",
       "      <td>384</td>\n",
       "      <td>Rick Moranis Ellen Greene Vincent Gardenia Ste...</td>\n",
       "      <td>[{'name': 'Roy Walker', 'gender': 2, 'departme...</td>\n",
       "      <td>Frank Oz</td>\n",
       "    </tr>\n",
       "    <tr>\n",
       "      <th>944</th>\n",
       "      <td>944</td>\n",
       "      <td>50000000</td>\n",
       "      <td>Crime Drama Thriller</td>\n",
       "      <td>NaN</td>\n",
       "      <td>66</td>\n",
       "      <td>corruption assassination washington d.c. rape ...</td>\n",
       "      <td>en</td>\n",
       "      <td>Absolute Power</td>\n",
       "      <td>A master thief coincidentally is robbing a hou...</td>\n",
       "      <td>13.576765</td>\n",
       "      <td>...</td>\n",
       "      <td>121.0</td>\n",
       "      <td>[{\"iso_639_1\": \"en\", \"name\": \"English\"}, {\"iso...</td>\n",
       "      <td>Released</td>\n",
       "      <td>Corrupts Absolutely.</td>\n",
       "      <td>Absolute Power</td>\n",
       "      <td>6.4</td>\n",
       "      <td>223</td>\n",
       "      <td>Clint Eastwood Gene Hackman Ed Harris Scott Gl...</td>\n",
       "      <td>[{'name': 'Clint Eastwood', 'gender': 2, 'depa...</td>\n",
       "      <td>Clint Eastwood</td>\n",
       "    </tr>\n",
       "  </tbody>\n",
       "</table>\n",
       "<p>2 rows × 24 columns</p>\n",
       "</div>"
      ],
      "text/plain": [
       "      index    budget                genres homepage     id  \\\n",
       "1609   1609  25000000   Horror Comedy Music      NaN  10776   \n",
       "944     944  50000000  Crime Drama Thriller      NaN     66   \n",
       "\n",
       "                                               keywords original_language  \\\n",
       "1609      flower solar eclipse florist assistant plants                en   \n",
       "944   corruption assassination washington d.c. rape ...                en   \n",
       "\n",
       "              original_title  \\\n",
       "1609  Little Shop of Horrors   \n",
       "944           Absolute Power   \n",
       "\n",
       "                                               overview  popularity  ...  \\\n",
       "1609  Seymour Krelborn is a nerdy orphan working at ...   12.113235  ...   \n",
       "944   A master thief coincidentally is robbing a hou...   13.576765  ...   \n",
       "\n",
       "     runtime                                   spoken_languages    status  \\\n",
       "1609    94.0           [{\"iso_639_1\": \"en\", \"name\": \"English\"}]  Released   \n",
       "944    121.0  [{\"iso_639_1\": \"en\", \"name\": \"English\"}, {\"iso...  Released   \n",
       "\n",
       "                     tagline                   title vote_average vote_count  \\\n",
       "1609  Don't feed the plants.  Little Shop of Horrors          6.6        384   \n",
       "944     Corrupts Absolutely.          Absolute Power          6.4        223   \n",
       "\n",
       "                                                   cast  \\\n",
       "1609  Rick Moranis Ellen Greene Vincent Gardenia Ste...   \n",
       "944   Clint Eastwood Gene Hackman Ed Harris Scott Gl...   \n",
       "\n",
       "                                                   crew        director  \n",
       "1609  [{'name': 'Roy Walker', 'gender': 2, 'departme...        Frank Oz  \n",
       "944   [{'name': 'Clint Eastwood', 'gender': 2, 'depa...  Clint Eastwood  \n",
       "\n",
       "[2 rows x 24 columns]"
      ]
     },
     "execution_count": 3,
     "metadata": {},
     "output_type": "execute_result"
    }
   ],
   "source": [
    "df.sample(2)"
   ]
  },
  {
   "cell_type": "code",
   "execution_count": 4,
   "metadata": {
    "colab": {
     "base_uri": "https://localhost:8080/"
    },
    "id": "Qrtr0oQbIjwF",
    "outputId": "c01323df-5e7f-44ab-a26c-582b1c0f5abb"
   },
   "outputs": [
    {
     "data": {
      "text/plain": [
       "(4803, 24)"
      ]
     },
     "execution_count": 4,
     "metadata": {},
     "output_type": "execute_result"
    }
   ],
   "source": [
    "df.shape"
   ]
  },
  {
   "cell_type": "code",
   "execution_count": 5,
   "metadata": {},
   "outputs": [
    {
     "data": {
      "text/plain": [
       "index                      0\n",
       "budget                     0\n",
       "genres                    28\n",
       "homepage                3091\n",
       "id                         0\n",
       "keywords                 412\n",
       "original_language          0\n",
       "original_title             0\n",
       "overview                   3\n",
       "popularity                 0\n",
       "production_companies       0\n",
       "production_countries       0\n",
       "release_date               1\n",
       "revenue                    0\n",
       "runtime                    2\n",
       "spoken_languages           0\n",
       "status                     0\n",
       "tagline                  844\n",
       "title                      0\n",
       "vote_average               0\n",
       "vote_count                 0\n",
       "cast                      43\n",
       "crew                       0\n",
       "director                  30\n",
       "dtype: int64"
      ]
     },
     "execution_count": 5,
     "metadata": {},
     "output_type": "execute_result"
    }
   ],
   "source": [
    "df.isnull().sum()"
   ]
  },
  {
   "cell_type": "code",
   "execution_count": 6,
   "metadata": {},
   "outputs": [],
   "source": [
    "sel = ['genres', 'keywords', 'tagline', 'overview']\n",
    "df[sel] = df[sel].fillna('')"
   ]
  },
  {
   "cell_type": "code",
   "execution_count": 7,
   "metadata": {
    "id": "-AMjrRItLCO1"
   },
   "outputs": [
    {
     "data": {
      "text/plain": [
       "0       Action Adventure Fantasy Science Fiction cultu...\n",
       "1       Adventure Fantasy Action ocean drug abuse exot...\n",
       "2       Action Adventure Crime spy based on novel secr...\n",
       "3       Action Crime Drama Thriller dc comics crime fi...\n",
       "4       Action Adventure Science Fiction based on nove...\n",
       "                              ...                        \n",
       "4798    Action Crime Thriller united states\\u2013mexic...\n",
       "4799    Comedy Romance  A newlywed couple's honeymoon ...\n",
       "4800    Comedy Drama Romance TV Movie date love at fir...\n",
       "4801      A New Yorker in Shanghai When ambitious New ...\n",
       "4802    Documentary obsession camcorder crush dream gi...\n",
       "Length: 4803, dtype: object"
      ]
     },
     "execution_count": 7,
     "metadata": {},
     "output_type": "execute_result"
    }
   ],
   "source": [
    "comb = df['genres'] + ' ' + df['keywords'] + ' ' + df['tagline'] + ' ' + df['overview']\n",
    "comb"
   ]
  },
  {
   "cell_type": "code",
   "execution_count": 8,
   "metadata": {
    "id": "Leo5rQskMKxL"
   },
   "outputs": [
    {
     "name": "stdout",
     "output_type": "stream",
     "text": [
      "  (0, 3847)\t0.18998320818587605\n",
      "  (0, 849)\t0.14140201647755615\n",
      "  (0, 1007)\t0.06066240935688215\n",
      "  (0, 15872)\t0.19163182137882953\n",
      "  (0, 1037)\t0.03677454757508785\n",
      "  (0, 14354)\t0.18553705883719787\n",
      "  (0, 7965)\t0.1593846069840042\n",
      "  (0, 2246)\t0.11479569406889707\n",
      "  (0, 20499)\t0.17430377383961507\n",
      "  (0, 2056)\t0.11285306325729084\n",
      "  (0, 3048)\t0.0713088889560065\n",
      "  (0, 13170)\t0.12590540666133332\n",
      "  (0, 21195)\t0.1782884272848316\n",
      "  (0, 14255)\t0.056491574582560884\n",
      "  (0, 13328)\t0.1782884272848316\n",
      "  (0, 20414)\t0.0356962560421724\n",
      "  (0, 5936)\t0.20693666762079285\n",
      "  (0, 10705)\t0.047995037933818895\n",
      "  (0, 12530)\t0.16486601155612282\n",
      "  (0, 14710)\t0.22167034908713734\n",
      "  (0, 3512)\t0.14388465597129593\n",
      "  (0, 239)\t0.22692902762100967\n",
      "  (0, 10185)\t0.04198426088609064\n",
      "  (0, 14667)\t0.4344483994769183\n",
      "  (0, 14171)\t0.03667985130848312\n",
      "  :\t:\n",
      "  (4802, 20222)\t0.07585493360346558\n",
      "  (4802, 14036)\t0.07834333228811927\n",
      "  (4802, 9064)\t0.09997883073148389\n",
      "  (4802, 22050)\t0.09878309660779563\n",
      "  (4802, 7119)\t0.09072232451233114\n",
      "  (4802, 14221)\t0.073579144492988\n",
      "  (4802, 22502)\t0.07579169483762555\n",
      "  (4802, 18123)\t0.06253732171582115\n",
      "  (4802, 9445)\t0.10298630031897385\n",
      "  (4802, 9311)\t0.13492724001354034\n",
      "  (4802, 22102)\t0.04620751904603167\n",
      "  (4802, 9570)\t0.03702897597820913\n",
      "  (4802, 13845)\t0.05692548189597379\n",
      "  (4802, 11611)\t0.0997746403574716\n",
      "  (4802, 22507)\t0.07380715754187646\n",
      "  (4802, 3070)\t0.04844609611182634\n",
      "  (4802, 7987)\t0.04222852252786153\n",
      "  (4802, 8227)\t0.0485965559870641\n",
      "  (4802, 9244)\t0.05443863753537121\n",
      "  (4802, 14257)\t0.05482137641469374\n",
      "  (4802, 1037)\t0.02616414089515258\n",
      "  (4802, 14255)\t0.040192296417765304\n",
      "  (4802, 20414)\t0.05079392863283154\n",
      "  (4802, 10185)\t0.029870717374825374\n",
      "  (4802, 20193)\t0.045476386486028975\n"
     ]
    }
   ],
   "source": [
    "vectors = TfidfVectorizer().fit_transform(comb)\n",
    "print(vectors)"
   ]
  },
  {
   "cell_type": "code",
   "execution_count": 9,
   "metadata": {
    "id": "MsKYCs31MeB6"
   },
   "outputs": [
    {
     "name": "stdout",
     "output_type": "stream",
     "text": [
      "[[1.         0.07119511 0.02957865 ... 0.03511847 0.01620524 0.01066013]\n",
      " [0.07119511 1.         0.06180734 ... 0.06863578 0.04226665 0.02364066]\n",
      " [0.02957865 0.06180734 1.         ... 0.03423982 0.01524207 0.02043494]\n",
      " ...\n",
      " [0.03511847 0.06863578 0.03423982 ... 1.         0.04327462 0.04021146]\n",
      " [0.01620524 0.04226665 0.01524207 ... 0.04327462 1.         0.04433985]\n",
      " [0.01066013 0.02364066 0.02043494 ... 0.04021146 0.04433985 1.        ]]\n"
     ]
    }
   ],
   "source": [
    "similarity = cosine_similarity(vectors)\n",
    "print(similarity)"
   ]
  },
  {
   "cell_type": "code",
   "execution_count": 10,
   "metadata": {
    "colab": {
     "base_uri": "https://localhost:8080/"
    },
    "id": "PLkvII-wM_5I",
    "outputId": "de638c77-1595-4d1a-f8d2-db6a3c1aabf0"
   },
   "outputs": [
    {
     "data": {
      "text/plain": [
       "(4803, 4803)"
      ]
     },
     "execution_count": 10,
     "metadata": {},
     "output_type": "execute_result"
    }
   ],
   "source": [
    "similarity.shape"
   ]
  },
  {
   "cell_type": "code",
   "execution_count": 13,
   "metadata": {
    "colab": {
     "base_uri": "https://localhost:8080/"
    },
    "id": "QUDZfTSxTHDf",
    "outputId": "c4e32c1a-0a70-4854-8eee-8660135694a5"
   },
   "outputs": [
    {
     "name": "stdin",
     "output_type": "stream",
     "text": [
      "Enter your favorite movie name:  Fast and Furious\n"
     ]
    },
    {
     "name": "stdout",
     "output_type": "stream",
     "text": [
      "Suggested for you:\n",
      "\n",
      "1. 2 Fast 2 Furious\n",
      "2. The Final Destination\n",
      "3. The Wash\n",
      "4. The Fast and the Furious: Tokyo Drift\n",
      "5. The Fast and the Furious\n",
      "6. Bad Boys II\n",
      "7. Ride Along 2\n",
      "8. Fast Five\n",
      "9. Underclassman\n"
     ]
    }
   ],
   "source": [
    "# Movie Recommendation based on another movie\n",
    "\n",
    "get_name = input('Enter your favorite movie name: ')\n",
    "\n",
    "all_movies = df['title'].tolist()\n",
    "close_matches_movie = difflib.get_close_matches(get_name, all_movies)\n",
    "index_of_the_movie = df[df['title'] == close_matches_movie[0]]['index'].values[0]\n",
    "similarity_score = list(enumerate(similarity[index_of_the_movie]))\n",
    "sorted_similar_movies = sorted(similarity_score, key=lambda x: x[1], reverse=True)\n",
    "\n",
    "print('Suggested for you:\\n')\n",
    "for i, movie in enumerate(sorted_similar_movies[:9], start=1):\n",
    "    index = movie[0]\n",
    "    title_from_index = df.loc[index, 'title']\n",
    "    print(f\"{i}. {title_from_index}\")"
   ]
  },
  {
   "cell_type": "code",
   "execution_count": 14,
   "metadata": {
    "id": "dgOXLbsWUAGK"
   },
   "outputs": [
    {
     "name": "stdin",
     "output_type": "stream",
     "text": [
      "Enter your favorite genre name:  Action\n"
     ]
    },
    {
     "name": "stdout",
     "output_type": "stream",
     "text": [
      "Suggested for you:\n",
      "\n",
      "1. Furious 7\n",
      "2. The Final Destination\n",
      "3. The Fast and the Furious: Tokyo Drift\n",
      "4. The Fast and the Furious\n",
      "5. Stranded\n",
      "6. Dead Man's Shoes\n",
      "7. Speed Racer\n",
      "8. Gone in Sixty Seconds\n",
      "9. Blue Ruin\n",
      "10. Turbo\n"
     ]
    }
   ],
   "source": [
    "# Movie Recommendation based on Genre\n",
    "\n",
    "get_genre = input('Enter your favorite genre name: ')\n",
    "\n",
    "all_genres = df['genres'].tolist()\n",
    "close_matches_genre = difflib.get_close_matches(get_genre, all_genres)\n",
    "index_of_the_movie1 = df[df['genres'] == close_matches_genre[0]]['index'].values[0]\n",
    "similarity_score1 = list(enumerate(similarity[index_of_the_movie1]))\n",
    "sorted_similar_movies1 = sorted(similarity_score1, key=lambda x: x[1], reverse=True)\n",
    "\n",
    "print('Suggested for you:\\n')\n",
    "for i, movie in enumerate(sorted_similar_movies1[:10], start=1):\n",
    "    index1 = movie[0]\n",
    "    title_from_index1 = df.loc[index1, 'title']\n",
    "    print(f\"{i}. {title_from_index1}\")"
   ]
  },
  {
   "cell_type": "code",
   "execution_count": null,
   "metadata": {},
   "outputs": [],
   "source": []
  }
 ],
 "metadata": {
  "colab": {
   "provenance": []
  },
  "kernelspec": {
   "display_name": "Python 3 (ipykernel)",
   "language": "python",
   "name": "python3"
  },
  "language_info": {
   "codemirror_mode": {
    "name": "ipython",
    "version": 3
   },
   "file_extension": ".py",
   "mimetype": "text/x-python",
   "name": "python",
   "nbconvert_exporter": "python",
   "pygments_lexer": "ipython3",
   "version": "3.11.7"
  }
 },
 "nbformat": 4,
 "nbformat_minor": 4
}
